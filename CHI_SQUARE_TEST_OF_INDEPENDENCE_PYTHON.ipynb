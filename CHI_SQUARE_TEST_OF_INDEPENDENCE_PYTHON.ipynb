{
  "nbformat": 4,
  "nbformat_minor": 0,
  "metadata": {
    "colab": {
      "name": "CHI-SQUARE TEST OF INDEPENDENCE-PYTHON",
      "provenance": [],
      "authorship_tag": "ABX9TyOjLwh7lkQrxrDOIXomqAIQ",
      "include_colab_link": true
    },
    "kernelspec": {
      "name": "python3",
      "display_name": "Python 3"
    }
  },
  "cells": [
    {
      "cell_type": "markdown",
      "metadata": {
        "id": "view-in-github",
        "colab_type": "text"
      },
      "source": [
        "<a href=\"https://colab.research.google.com/github/davidmuna/CHI-SQUARE-TEST-OF-INDEPENDENCE-PYTHON/blob/master/CHI_SQUARE_TEST_OF_INDEPENDENCE_PYTHON.ipynb\" target=\"_parent\"><img src=\"https://colab.research.google.com/assets/colab-badge.svg\" alt=\"Open In Colab\"/></a>"
      ]
    },
    {
      "cell_type": "markdown",
      "metadata": {
        "id": "gYEYH4z7or1J",
        "colab_type": "text"
      },
      "source": [
        "# CHI-SQUARE TEST OF INDEPENDENCE"
      ]
    },
    {
      "cell_type": "markdown",
      "metadata": {
        "id": "BL-zLwZioyeJ",
        "colab_type": "text"
      },
      "source": [
        "The  test of independence tests for dependence between categorical variables and is an omnibus test. Meaning, that if a significant relationship is found and one wants to test for differences between groups then post-hoc testing will need to be conducted. Typically, a proportions test is used as a follow-up post-hoc test.\n",
        "\n",
        "The  test of independence analysis utilizes a cross tabulation table between the variables of interest  rows and  columns. Based on the cell counts, it is possible to test if there is a relationship, dependence, between the variables and to estimate the strength of the relationship. This is done by testing the difference between the expected count, , and the observed count, . The subscript i will be used to denote the row group, i.e. , and j will be used to denote the column group, i.e. , meaning the cell will be denoted with the appropriate row and column group subscripts, i.e.  and  will be . Let's take a look at an example cross tabulation."
      ]
    },
    {
      "cell_type": "markdown",
      "metadata": {
        "id": "TSRK8aE1pplO",
        "colab_type": "text"
      },
      "source": [
        " X2(squared) test of independence assumptions\n",
        "*   The two samples are independent\n",
        "*   No expected cell count is = 0\n",
        "*   No more than 20% of the cells have and expected cell count < 5\n",
        "\n",
        "Hypothesis\n",
        "*   Ho: Variables are independent\n",
        "*   Ha: Variables are dependent\n"
      ]
    },
    {
      "cell_type": "markdown",
      "metadata": {
        "id": "3euuHUL-rD9R",
        "colab_type": "text"
      },
      "source": [
        "This demonstration will cover how to conduct a  test of independence using scipy.stats and researchpy. First, let's import pandas, statsmodels.api, scipy.stats, researchpy, and the data for this demonstration.\n",
        "\n",
        "The data used in this example comes from Stata and is 1980 U.S. census data from 956 cities."
      ]
    },
    {
      "cell_type": "code",
      "metadata": {
        "id": "d30MvNK9rG7V",
        "colab_type": "code",
        "colab": {
          "base_uri": "https://localhost:8080/",
          "height": 70
        },
        "outputId": "b7c586f9-9eb7-4151-e982-d8b7c5e4c3d1"
      },
      "source": [
        "import pandas as pd\n",
        "\n",
        "#uncomment and run the line below if researchpy module not found\n",
        "!pip install -q researchpy\n",
        "\n",
        "import researchpy as rp\n",
        "import scipy.stats as stats\n",
        "\n",
        "# To load a sample dataset for this demonstration\n",
        "import statsmodels.api as sm\n",
        "\n",
        "df = sm.datasets.webuse(\"citytemp2\")"
      ],
      "execution_count": 2,
      "outputs": [
        {
          "output_type": "stream",
          "text": [
            "/usr/local/lib/python3.6/dist-packages/statsmodels/tools/_testing.py:19: FutureWarning: pandas.util.testing is deprecated. Use the functions in the public API at pandas.testing instead.\n",
            "  import pandas.util.testing as tm\n"
          ],
          "name": "stderr"
        }
      ]
    },
    {
      "cell_type": "code",
      "metadata": {
        "id": "xO5Zt8_XroQ-",
        "colab_type": "code",
        "colab": {
          "base_uri": "https://localhost:8080/",
          "height": 252
        },
        "outputId": "253efd4f-dc01-4990-b8c8-09779d303ec7"
      },
      "source": [
        "#Previewing the data\n",
        "df.info()"
      ],
      "execution_count": 3,
      "outputs": [
        {
          "output_type": "stream",
          "text": [
            "<class 'pandas.core.frame.DataFrame'>\n",
            "Int64Index: 956 entries, 0 to 955\n",
            "Data columns (total 7 columns):\n",
            " #   Column    Non-Null Count  Dtype   \n",
            "---  ------    --------------  -----   \n",
            " 0   division  956 non-null    category\n",
            " 1   region    956 non-null    category\n",
            " 2   heatdd    953 non-null    float64 \n",
            " 3   cooldd    953 non-null    float64 \n",
            " 4   tempjan   954 non-null    float32 \n",
            " 5   tempjuly  954 non-null    float32 \n",
            " 6   agecat    956 non-null    category\n",
            "dtypes: category(3), float32(2), float64(2)\n",
            "memory usage: 33.3 KB\n"
          ],
          "name": "stdout"
        }
      ]
    },
    {
      "cell_type": "markdown",
      "metadata": {
        "id": "8sbNYR3urvfm",
        "colab_type": "text"
      },
      "source": [
        "Research question: Is there a relationship between the region and age. Before testing this relationship, let's see some basic univariate statistics."
      ]
    },
    {
      "cell_type": "code",
      "metadata": {
        "id": "SyMj0q08rrYm",
        "colab_type": "code",
        "colab": {
          "base_uri": "https://localhost:8080/",
          "height": 254
        },
        "outputId": "6833eaef-d8b8-4342-8714-dd188a30e616"
      },
      "source": [
        "rp.summary_cat(df[[\"agecat\", \"region\"]])\n",
        "\n",
        "#The data is majority in the 19-29 age group while the regions are fairly similar except for the \n",
        "#Northeast region having the fewest population."
      ],
      "execution_count": 4,
      "outputs": [
        {
          "output_type": "execute_result",
          "data": {
            "text/html": [
              "<div>\n",
              "<style scoped>\n",
              "    .dataframe tbody tr th:only-of-type {\n",
              "        vertical-align: middle;\n",
              "    }\n",
              "\n",
              "    .dataframe tbody tr th {\n",
              "        vertical-align: top;\n",
              "    }\n",
              "\n",
              "    .dataframe thead th {\n",
              "        text-align: right;\n",
              "    }\n",
              "</style>\n",
              "<table border=\"1\" class=\"dataframe\">\n",
              "  <thead>\n",
              "    <tr style=\"text-align: right;\">\n",
              "      <th></th>\n",
              "      <th>Variable</th>\n",
              "      <th>Outcome</th>\n",
              "      <th>Count</th>\n",
              "      <th>Percent</th>\n",
              "    </tr>\n",
              "  </thead>\n",
              "  <tbody>\n",
              "    <tr>\n",
              "      <th>0</th>\n",
              "      <td>agecat</td>\n",
              "      <td>19-29</td>\n",
              "      <td>507</td>\n",
              "      <td>53.03</td>\n",
              "    </tr>\n",
              "    <tr>\n",
              "      <th>1</th>\n",
              "      <td></td>\n",
              "      <td>30-34</td>\n",
              "      <td>316</td>\n",
              "      <td>33.05</td>\n",
              "    </tr>\n",
              "    <tr>\n",
              "      <th>2</th>\n",
              "      <td></td>\n",
              "      <td>35+</td>\n",
              "      <td>133</td>\n",
              "      <td>13.91</td>\n",
              "    </tr>\n",
              "    <tr>\n",
              "      <th>3</th>\n",
              "      <td>region</td>\n",
              "      <td>N Cntrl</td>\n",
              "      <td>284</td>\n",
              "      <td>29.71</td>\n",
              "    </tr>\n",
              "    <tr>\n",
              "      <th>4</th>\n",
              "      <td></td>\n",
              "      <td>West</td>\n",
              "      <td>256</td>\n",
              "      <td>26.78</td>\n",
              "    </tr>\n",
              "    <tr>\n",
              "      <th>5</th>\n",
              "      <td></td>\n",
              "      <td>South</td>\n",
              "      <td>250</td>\n",
              "      <td>26.15</td>\n",
              "    </tr>\n",
              "    <tr>\n",
              "      <th>6</th>\n",
              "      <td></td>\n",
              "      <td>NE</td>\n",
              "      <td>166</td>\n",
              "      <td>17.36</td>\n",
              "    </tr>\n",
              "  </tbody>\n",
              "</table>\n",
              "</div>"
            ],
            "text/plain": [
              "  Variable  Outcome  Count  Percent\n",
              "0   agecat    19-29    507    53.03\n",
              "1             30-34    316    33.05\n",
              "2               35+    133    13.91\n",
              "3   region  N Cntrl    284    29.71\n",
              "4              West    256    26.78\n",
              "5             South    250    26.15\n",
              "6                NE    166    17.36"
            ]
          },
          "metadata": {
            "tags": []
          },
          "execution_count": 4
        }
      ]
    },
    {
      "cell_type": "markdown",
      "metadata": {
        "id": "udgPxzIlsLou",
        "colab_type": "text"
      },
      "source": [
        "##### CHI-SQUARE TEST OF INDEPENDENCE WITH SCIPY.STATS\n",
        "*   The method that needs to be used is scipy.stats.chi2_contingency\n",
        "*   This method requires one to pass a crosstabulation table, this can be accomplished using pandas.crosstab.\n",
        "\n"
      ]
    },
    {
      "cell_type": "code",
      "metadata": {
        "id": "zmx6OBrUshSk",
        "colab_type": "code",
        "colab": {
          "base_uri": "https://localhost:8080/",
          "height": 195
        },
        "outputId": "2bc9dc3c-e504-44ed-b6be-3cc1ec5dec8b"
      },
      "source": [
        "crosstab = pd.crosstab(df[\"region\"], df[\"agecat\"])\n",
        "\n",
        "crosstab\n",
        "\n",
        "#The information is returned within a tuple where the first value is the Chi-Square test static\n",
        "#the second value is the p-value, and the third number is the degrees of freedom. \n",
        "#An array is also returned which contains the expected cell counts"
      ],
      "execution_count": 5,
      "outputs": [
        {
          "output_type": "execute_result",
          "data": {
            "text/html": [
              "<div>\n",
              "<style scoped>\n",
              "    .dataframe tbody tr th:only-of-type {\n",
              "        vertical-align: middle;\n",
              "    }\n",
              "\n",
              "    .dataframe tbody tr th {\n",
              "        vertical-align: top;\n",
              "    }\n",
              "\n",
              "    .dataframe thead th {\n",
              "        text-align: right;\n",
              "    }\n",
              "</style>\n",
              "<table border=\"1\" class=\"dataframe\">\n",
              "  <thead>\n",
              "    <tr style=\"text-align: right;\">\n",
              "      <th>agecat</th>\n",
              "      <th>19-29</th>\n",
              "      <th>30-34</th>\n",
              "      <th>35+</th>\n",
              "    </tr>\n",
              "    <tr>\n",
              "      <th>region</th>\n",
              "      <th></th>\n",
              "      <th></th>\n",
              "      <th></th>\n",
              "    </tr>\n",
              "  </thead>\n",
              "  <tbody>\n",
              "    <tr>\n",
              "      <th>NE</th>\n",
              "      <td>46</td>\n",
              "      <td>83</td>\n",
              "      <td>37</td>\n",
              "    </tr>\n",
              "    <tr>\n",
              "      <th>N Cntrl</th>\n",
              "      <td>162</td>\n",
              "      <td>92</td>\n",
              "      <td>30</td>\n",
              "    </tr>\n",
              "    <tr>\n",
              "      <th>South</th>\n",
              "      <td>139</td>\n",
              "      <td>68</td>\n",
              "      <td>43</td>\n",
              "    </tr>\n",
              "    <tr>\n",
              "      <th>West</th>\n",
              "      <td>160</td>\n",
              "      <td>73</td>\n",
              "      <td>23</td>\n",
              "    </tr>\n",
              "  </tbody>\n",
              "</table>\n",
              "</div>"
            ],
            "text/plain": [
              "agecat   19-29  30-34  35+\n",
              "region                    \n",
              "NE          46     83   37\n",
              "N Cntrl    162     92   30\n",
              "South      139     68   43\n",
              "West       160     73   23"
            ]
          },
          "metadata": {
            "tags": []
          },
          "execution_count": 5
        }
      ]
    },
    {
      "cell_type": "code",
      "metadata": {
        "id": "Dm-xImhdsivQ",
        "colab_type": "code",
        "colab": {
          "base_uri": "https://localhost:8080/",
          "height": 134
        },
        "outputId": "e6464df3-8114-452f-cbf3-c46f483aa5ec"
      },
      "source": [
        "stats.chi2_contingency(crosstab)"
      ],
      "execution_count": 6,
      "outputs": [
        {
          "output_type": "execute_result",
          "data": {
            "text/plain": [
              "(61.28767688406036,\n",
              " 2.463382670201326e-11,\n",
              " 6,\n",
              " array([[ 88.03556485,  54.87029289,  23.09414226],\n",
              "        [150.61506276,  93.87447699,  39.51046025],\n",
              "        [132.58368201,  82.63598326,  34.78033473],\n",
              "        [135.76569038,  84.61924686,  35.61506276]]))"
            ]
          },
          "metadata": {
            "tags": []
          },
          "execution_count": 6
        }
      ]
    },
    {
      "cell_type": "markdown",
      "metadata": {
        "id": "9vofdwkitBhw",
        "colab_type": "text"
      },
      "source": [
        "There is a relationship between region and the age distribution, Chi-Squared(6) = 61.29, p< 0.0001."
      ]
    },
    {
      "cell_type": "markdown",
      "metadata": {
        "id": "_G4-FiWvtNL2",
        "colab_type": "text"
      },
      "source": [
        "##### CHI-SQUARE TEST OF INDEPENDENCE WITH RESEARCHPY\n",
        "\n"
      ]
    },
    {
      "cell_type": "markdown",
      "metadata": {
        "id": "LjdW7CmdujYF",
        "colab_type": "text"
      },
      "source": [
        "The method that needs to be used is researchpy.crosstab. For cleaner output, one can assign each requested object from the tuple to another object and then those separately. The expected cell counts will be requested and used later while checking the assumptions for this statistical test. Additionally, will request the crosstabulation be returned with the cell percentage instead of the cell count."
      ]
    },
    {
      "cell_type": "code",
      "metadata": {
        "id": "WeVNHsCLuuLm",
        "colab_type": "code",
        "colab": {
          "base_uri": "https://localhost:8080/",
          "height": 254
        },
        "outputId": "0dbdbae5-d266-4360-8e09-63c2ff077e41"
      },
      "source": [
        "crosstab, test_results, expected = rp.crosstab(df[\"region\"], df[\"agecat\"],\n",
        "                                               test= \"chi-square\",\n",
        "                                               expected_freqs= True,\n",
        "                                               prop= \"cell\")\n",
        "\n",
        "crosstab"
      ],
      "execution_count": 7,
      "outputs": [
        {
          "output_type": "execute_result",
          "data": {
            "text/html": [
              "<div>\n",
              "<style scoped>\n",
              "    .dataframe tbody tr th:only-of-type {\n",
              "        vertical-align: middle;\n",
              "    }\n",
              "\n",
              "    .dataframe tbody tr th {\n",
              "        vertical-align: top;\n",
              "    }\n",
              "\n",
              "    .dataframe thead tr th {\n",
              "        text-align: left;\n",
              "    }\n",
              "\n",
              "    .dataframe thead tr:last-of-type th {\n",
              "        text-align: right;\n",
              "    }\n",
              "</style>\n",
              "<table border=\"1\" class=\"dataframe\">\n",
              "  <thead>\n",
              "    <tr>\n",
              "      <th></th>\n",
              "      <th colspan=\"4\" halign=\"left\">agecat</th>\n",
              "    </tr>\n",
              "    <tr>\n",
              "      <th>agecat</th>\n",
              "      <th>19-29</th>\n",
              "      <th>30-34</th>\n",
              "      <th>35+</th>\n",
              "      <th>All</th>\n",
              "    </tr>\n",
              "    <tr>\n",
              "      <th>region</th>\n",
              "      <th></th>\n",
              "      <th></th>\n",
              "      <th></th>\n",
              "      <th></th>\n",
              "    </tr>\n",
              "  </thead>\n",
              "  <tbody>\n",
              "    <tr>\n",
              "      <th>NE</th>\n",
              "      <td>4.81</td>\n",
              "      <td>8.68</td>\n",
              "      <td>3.87</td>\n",
              "      <td>17.36</td>\n",
              "    </tr>\n",
              "    <tr>\n",
              "      <th>N Cntrl</th>\n",
              "      <td>16.95</td>\n",
              "      <td>9.62</td>\n",
              "      <td>3.14</td>\n",
              "      <td>29.71</td>\n",
              "    </tr>\n",
              "    <tr>\n",
              "      <th>South</th>\n",
              "      <td>14.54</td>\n",
              "      <td>7.11</td>\n",
              "      <td>4.50</td>\n",
              "      <td>26.15</td>\n",
              "    </tr>\n",
              "    <tr>\n",
              "      <th>West</th>\n",
              "      <td>16.74</td>\n",
              "      <td>7.64</td>\n",
              "      <td>2.41</td>\n",
              "      <td>26.78</td>\n",
              "    </tr>\n",
              "    <tr>\n",
              "      <th>All</th>\n",
              "      <td>53.03</td>\n",
              "      <td>33.05</td>\n",
              "      <td>13.91</td>\n",
              "      <td>100.00</td>\n",
              "    </tr>\n",
              "  </tbody>\n",
              "</table>\n",
              "</div>"
            ],
            "text/plain": [
              "        agecat                      \n",
              "agecat   19-29  30-34    35+     All\n",
              "region                              \n",
              "NE        4.81   8.68   3.87   17.36\n",
              "N Cntrl  16.95   9.62   3.14   29.71\n",
              "South    14.54   7.11   4.50   26.15\n",
              "West     16.74   7.64   2.41   26.78\n",
              "All      53.03  33.05  13.91  100.00"
            ]
          },
          "metadata": {
            "tags": []
          },
          "execution_count": 7
        }
      ]
    },
    {
      "cell_type": "code",
      "metadata": {
        "id": "wwRWSHlwuwpx",
        "colab_type": "code",
        "colab": {
          "base_uri": "https://localhost:8080/",
          "height": 136
        },
        "outputId": "93a70156-907c-499f-a794-4c55df36ce04"
      },
      "source": [
        "test_results\n",
        "\n",
        "#The one piece of information that researchpy calculates that scipy.stats does not is a measure of the strength of the relationship - this is akin to a correlation statistic such as \n",
        "#Pearson's correlation coefficient\n",
        "\n",
        "#Phi and Cramer's V\tInterpretation\n",
        "#>0.25\tVery strong\n",
        "#>0.15\tStrong\n",
        "#>0.10\tModerate\n",
        "#>0.05\tWeak\n",
        "#>0\tNo or very weak"
      ],
      "execution_count": 8,
      "outputs": [
        {
          "output_type": "execute_result",
          "data": {
            "text/html": [
              "<div>\n",
              "<style scoped>\n",
              "    .dataframe tbody tr th:only-of-type {\n",
              "        vertical-align: middle;\n",
              "    }\n",
              "\n",
              "    .dataframe tbody tr th {\n",
              "        vertical-align: top;\n",
              "    }\n",
              "\n",
              "    .dataframe thead th {\n",
              "        text-align: right;\n",
              "    }\n",
              "</style>\n",
              "<table border=\"1\" class=\"dataframe\">\n",
              "  <thead>\n",
              "    <tr style=\"text-align: right;\">\n",
              "      <th></th>\n",
              "      <th>Chi-square test</th>\n",
              "      <th>results</th>\n",
              "    </tr>\n",
              "  </thead>\n",
              "  <tbody>\n",
              "    <tr>\n",
              "      <th>0</th>\n",
              "      <td>Pearson Chi-square ( 6.0) =</td>\n",
              "      <td>61.2877</td>\n",
              "    </tr>\n",
              "    <tr>\n",
              "      <th>1</th>\n",
              "      <td>p-value =</td>\n",
              "      <td>0.0000</td>\n",
              "    </tr>\n",
              "    <tr>\n",
              "      <th>2</th>\n",
              "      <td>Cramer's V =</td>\n",
              "      <td>0.1790</td>\n",
              "    </tr>\n",
              "  </tbody>\n",
              "</table>\n",
              "</div>"
            ],
            "text/plain": [
              "                Chi-square test  results\n",
              "0  Pearson Chi-square ( 6.0) =   61.2877\n",
              "1                    p-value =    0.0000\n",
              "2                 Cramer's V =    0.1790"
            ]
          },
          "metadata": {
            "tags": []
          },
          "execution_count": 8
        }
      ]
    },
    {
      "cell_type": "markdown",
      "metadata": {
        "id": "AfQrJJIvvHBb",
        "colab_type": "text"
      },
      "source": [
        "##### ASSUMPTION CHECK"
      ]
    },
    {
      "cell_type": "markdown",
      "metadata": {
        "id": "LkNymoUpvKE0",
        "colab_type": "text"
      },
      "source": [
        "*   The two samples are independent - The variables were collected independently of each other, i.e. the answer from one variable was not dependent on the answer of the other\n",
        "*   No expected cell count is = 0\n",
        "*   No more than 20% of the cells have and expected cell count < 5\n",
        "*   The last two assumptions can be checked by looking at the expected frequency table.\n",
        "\n",
        "\n",
        "\n"
      ]
    },
    {
      "cell_type": "code",
      "metadata": {
        "id": "kHHZj91MvfQn",
        "colab_type": "code",
        "colab": {
          "base_uri": "https://localhost:8080/",
          "height": 225
        },
        "outputId": "c7b12a93-037f-4fc4-eb6a-2cf81f34a884"
      },
      "source": [
        "expected\n",
        "\n",
        "#It can be seen that all the assumptions are met which indicates the \n",
        "#statistical test results are reliable."
      ],
      "execution_count": 9,
      "outputs": [
        {
          "output_type": "execute_result",
          "data": {
            "text/html": [
              "<div>\n",
              "<style scoped>\n",
              "    .dataframe tbody tr th:only-of-type {\n",
              "        vertical-align: middle;\n",
              "    }\n",
              "\n",
              "    .dataframe tbody tr th {\n",
              "        vertical-align: top;\n",
              "    }\n",
              "\n",
              "    .dataframe thead tr th {\n",
              "        text-align: left;\n",
              "    }\n",
              "\n",
              "    .dataframe thead tr:last-of-type th {\n",
              "        text-align: right;\n",
              "    }\n",
              "</style>\n",
              "<table border=\"1\" class=\"dataframe\">\n",
              "  <thead>\n",
              "    <tr>\n",
              "      <th></th>\n",
              "      <th colspan=\"3\" halign=\"left\">agecat</th>\n",
              "    </tr>\n",
              "    <tr>\n",
              "      <th>agecat</th>\n",
              "      <th>19-29</th>\n",
              "      <th>30-34</th>\n",
              "      <th>35+</th>\n",
              "    </tr>\n",
              "    <tr>\n",
              "      <th>region</th>\n",
              "      <th></th>\n",
              "      <th></th>\n",
              "      <th></th>\n",
              "    </tr>\n",
              "  </thead>\n",
              "  <tbody>\n",
              "    <tr>\n",
              "      <th>NE</th>\n",
              "      <td>88.035565</td>\n",
              "      <td>54.870293</td>\n",
              "      <td>23.094142</td>\n",
              "    </tr>\n",
              "    <tr>\n",
              "      <th>N Cntrl</th>\n",
              "      <td>150.615063</td>\n",
              "      <td>93.874477</td>\n",
              "      <td>39.510460</td>\n",
              "    </tr>\n",
              "    <tr>\n",
              "      <th>South</th>\n",
              "      <td>132.583682</td>\n",
              "      <td>82.635983</td>\n",
              "      <td>34.780335</td>\n",
              "    </tr>\n",
              "    <tr>\n",
              "      <th>West</th>\n",
              "      <td>135.765690</td>\n",
              "      <td>84.619247</td>\n",
              "      <td>35.615063</td>\n",
              "    </tr>\n",
              "  </tbody>\n",
              "</table>\n",
              "</div>"
            ],
            "text/plain": [
              "             agecat                      \n",
              "agecat        19-29      30-34        35+\n",
              "region                                   \n",
              "NE        88.035565  54.870293  23.094142\n",
              "N Cntrl  150.615063  93.874477  39.510460\n",
              "South    132.583682  82.635983  34.780335\n",
              "West     135.765690  84.619247  35.615063"
            ]
          },
          "metadata": {
            "tags": []
          },
          "execution_count": 9
        }
      ]
    }
  ]
}